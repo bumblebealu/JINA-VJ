{
 "cells": [
  {
   "cell_type": "markdown",
   "metadata": {},
   "source": [
    "#### Run the notebook in the given order"
   ]
  },
  {
   "cell_type": "code",
   "execution_count": null,
   "metadata": {},
   "outputs": [],
   "source": [
    "#libraries\n",
    "import openai\n",
    "import pandas as pd\n",
    "import requests\n",
    "from requests.auth import HTTPBasicAuth\n",
    "import time\n",
    "import re"
   ]
  },
  {
   "cell_type": "code",
   "execution_count": null,
   "metadata": {},
   "outputs": [],
   "source": [
    "model = \"gpt-3.5-turbo\"\n",
    "#insert your own GPT API key\n",
    "openai.api_key = \"Insert key\""
   ]
  },
  {
   "cell_type": "code",
   "execution_count": null,
   "metadata": {},
   "outputs": [],
   "source": [
    "#old sandbox\n",
    "#base_url = \"http://sneed-vm/jina/journals/api/\"\n",
    "base_url = \"http://sneed-dev/jina/journals/api/\""
   ]
  },
  {
   "cell_type": "code",
   "execution_count": null,
   "metadata": {},
   "outputs": [],
   "source": [
    "#auth = HTTPBasicAuth('username', 'password')\n",
    "#Bea's temporary info\n",
    "auth = HTTPBasicAuth('lubangji@msu.edu', 'GoWhite1')"
   ]
  },
  {
   "cell_type": "code",
   "execution_count": null,
   "metadata": {},
   "outputs": [],
   "source": [
    "default_prompt = \"Would you classify the following abstract as being relevant to nuclear astrophysics? Reply yse or no. Abstract:\"\n",
    "\n",
    "tags_prompt = \"\"\"Given this list of tags, please only return the corresponding numbers that you think matches the text.\n",
    "[\n",
    "    'Abundances': 13,\n",
    "    'Astrophysics Theory /Model': 19,\n",
    "    'Codes, algorithms': 31,\n",
    "    'Cosmo Chronology': 22,\n",
    "    'Experimental Equipment': 28,\n",
    "    'Nuclear Data-EXPT': 1,\n",
    "    'Nuclear-Particle THEORY': 5,\n",
    "    'Observation': 16,\n",
    "    'Observational data analysis': 25,\n",
    "    'S-factors, Reaction Rates, masses': 9,\n",
    "    'AGB stars': 17,\n",
    "    'Big Bang / cosmology': 2,\n",
    "    'Black Holes': 40,\n",
    "    'Core Collapse SN': 26,\n",
    "    'Dwarf Galaxies': 36,\n",
    "    'Evolving Stars': 14,\n",
    "    'First stars': 6,\n",
    "    'Gamma Ray Bursters': 29,\n",
    "    'Globular clusters': 42,\n",
    "    'Milky Way Galaxy': 44,\n",
    "    'Neutron / Compact Stars': 38,\n",
    "    'Neutron Star Mergers': 34,\n",
    "    'Novae': 23,\n",
    "    'Other galaxies': 46,\n",
    "    'The Sun': 10,\n",
    "    'Type Ia SN': 32,\n",
    "    'White dwarfs': 47,\n",
    "    'x-ray binaries': 20,\n",
    "    'Chemical evolution': 24,\n",
    "    'Cosmic rays': 33,\n",
    "    'E-capture, beta decay B(GT), B(L=1)': 21,\n",
    "    'Equation of state': 43,\n",
    "    'Galactic Evolution / Structure': 27,\n",
    "    'Gamma ray emission': 39,\n",
    "    'Gravitational Waves': 30,\n",
    "    'Hydrogen burning': 41,\n",
    "    'i-Process': 197,\n",
    "    'Magnetic fields': 37,\n",
    "    'Meteoric grains': 45,\n",
    "    'Neutrino cross sections, processes': 18,\n",
    "    'p-Process': 15,\n",
    "    'r-process': 11,\n",
    "    'Rotation': 35,\n",
    "    'rp-Process': 7,\n",
    "    's-Process': 3,\n",
    "    'Books, Book reviews': 12,\n",
    "    'Popular audience': 8,\n",
    "    'Reviews': 4,\n",
    "    'Undecided': 207,\n",
    "]\n",
    "Here is the title or abstract:\n",
    "\"\"\""
   ]
  },
  {
   "cell_type": "code",
   "execution_count": null,
   "metadata": {},
   "outputs": [],
   "source": [
    "#JINA VJ API Functions\n",
    "def get_import_dates():\n",
    "\n",
    "    url = base_url + \"GetImportDates.php\"\n",
    "    response = requests.get(url, auth=auth)\n",
    "    if response.ok:\n",
    "        return response.json()[\"Results\"]\n",
    "    return None\n",
    "\n",
    "def get_external_journals(import_date):\n",
    "\n",
    "    url = base_url + \"GetExternalJournalsForImportDate.php\"\n",
    "    params = {\"articleImportDate\": import_date}\n",
    "    response = requests.get(url, params=params, auth=auth)\n",
    "    if response.ok:\n",
    "        return response.json()[\"Results\"]\n",
    "    return None\n",
    "\n",
    "def get_articles(import_date, journal_id):\n",
    "\n",
    "    url = base_url + \"GetArticles.php\"\n",
    "    params = {\"articleImportDate\": import_date, \"extJournalID\": journal_id}\n",
    "    response = requests.get(url, params=params, auth=auth)\n",
    "    if response.ok:\n",
    "        return response.json()[\"Results\"]\n",
    "    return None\n",
    "\n",
    "def get_tags(journal_id):\n",
    "\n",
    "    url = base_url + \"GetTagsAndCategories.php\"\n",
    "    params = {\"journalID\": journal_id}\n",
    "    response = requests.get(url, params=params, auth=auth)\n",
    "    if response.ok:\n",
    "        return response.json()[\"Results\"]\n",
    "    return None\n",
    "\n",
    "def add_article_tag(journal_id, article_id, tag_id):\n",
    "\n",
    "    url = base_url + \"AddArticleTag.php\"\n",
    "    params = {\"journalID\": journal_id, \"articleID\": article_id, \"tagID\": tag_id}\n",
    "    response = requests.get(url, params=params, auth=auth)\n",
    "    return response.ok\n",
    "\n",
    "def mark_external_journal_as_reviewed(ext_journal_id, import_date):\n",
    "\n",
    "    url = base_url + \"MarkExternalJournalAsReviewed.php\"\n",
    "    params = {\"extJournalID\": ext_journal_id, \"articleImportDate\": import_date}\n",
    "    response = requests.get(url, params=params, auth=auth)\n",
    "    return response.ok\n",
    "\n",
    "\n",
    "def delete_article_tag(journal_id, article_id, tag_id):\n",
    "    \n",
    "    url = base_url + \"DeleteArticleTag.php\"\n",
    "    params = {\"journalID\": journal_id, \"articleID\": article_id, \"tagID\": tag_id}\n",
    "    response = requests.get(url, params=params, auth=auth)\n",
    "    return response.ok"
   ]
  },
  {
   "cell_type": "code",
   "execution_count": null,
   "metadata": {},
   "outputs": [],
   "source": [
    "#function to call Chat GPT API\n",
    "max_retries = 10\n",
    "\n",
    "def make_openai_request(prompt):\n",
    "\n",
    "    retries = 0\n",
    "    while retries < max_retries:\n",
    "        try:\n",
    "            response = openai.ChatCompletion.create(\n",
    "                model=model,\n",
    "                messages=[{\"role\": \"user\", \"content\": prompt}]\n",
    "            )\n",
    "            time.sleep(3)\n",
    "            return response\n",
    "        except requests.exceptions.Timeout:\n",
    "            retries += 1\n",
    "            time.sleep(10)"
   ]
  },
  {
   "cell_type": "code",
   "execution_count": null,
   "metadata": {},
   "outputs": [],
   "source": [
    "#function for parsing numbers from Chat GPT's answer to tags prompt\n",
    "def extract_numbers_from_string(input_string):\n",
    "\n",
    "    numbers_list = re.findall(r'\\d+', input_string)\n",
    "    return numbers_list"
   ]
  },
  {
   "cell_type": "code",
   "execution_count": null,
   "metadata": {},
   "outputs": [],
   "source": [
    "#function for looping for the articles and prompting Chat GPT\n",
    "def fetch_articles_and_process_tags(ext_journal_ids, latest_import_date):\n",
    "\n",
    "    for ext_journal_id in ext_journal_ids:\n",
    "        articles = get_articles(latest_import_date, ext_journal_id)\n",
    "        \n",
    "        if not articles:\n",
    "            continue\n",
    "        \n",
    "        for article in articles:\n",
    "            article_abstract = article.get('articleAbstract', '')\n",
    "            article_title = article.get('articleTitle', '')\n",
    "\n",
    "            is_abstract_available = article_abstract and article_abstract.strip()\n",
    "\n",
    "            if is_abstract_available:\n",
    "                first_prompt = default_prompt + article_abstract\n",
    "                second_prompt = tags_prompt + article_abstract\n",
    "            else:\n",
    "                first_prompt = default_prompt + article_title\n",
    "                second_prompt = tags_prompt + article_title\n",
    "\n",
    "            response = make_openai_request(first_prompt)\n",
    "            if \"Yes\" in response['choices'][0]['message']['content']:\n",
    "                tags_response = make_openai_request(second_prompt)\n",
    "                tag_ids = extract_and_process_tags(article, tags_response, ext_journal_id)\n",
    "\n",
    "        mark_external_journal_as_reviewed(ext_journal_id, latest_import_date)\n"
   ]
  },
  {
   "cell_type": "code",
   "execution_count": null,
   "metadata": {},
   "outputs": [],
   "source": [
    "#adding info to tag_info and adding the article tags\n",
    "def extract_and_process_tags(article, tags_response, ext_journal_id):\n",
    "    \n",
    "    tag_ids_list = extract_numbers_from_string(tags_response['choices'][0]['message']['content'])\n",
    "    tag_ids = [int(tag_id) for tag_id in tag_ids_list]\n",
    "    \n",
    "    if not tag_ids:\n",
    "        tag_ids = [207]\n",
    "        \n",
    "    for tag_id in tag_ids:\n",
    "        add_article_tag(ext_journal_id, article['articleID'], tag_id)\n",
    "    \n",
    "    if ext_journal_id not in tag_info:\n",
    "        tag_info[ext_journal_id] = {}\n",
    "    \n",
    "    tag_info[ext_journal_id][article['articleID']] = tag_ids\n",
    "    \n",
    "    return tag_ids"
   ]
  },
  {
   "cell_type": "code",
   "execution_count": null,
   "metadata": {},
   "outputs": [],
   "source": [
    "#empty dictionary for storing info\n",
    "tag_info = {}"
   ]
  },
  {
   "cell_type": "code",
   "execution_count": null,
   "metadata": {},
   "outputs": [],
   "source": [
    "import_dates = get_import_dates()\n",
    "if not import_dates:\n",
    "    print(\"Error: Unable to fetch import dates.\")"
   ]
  },
  {
   "cell_type": "code",
   "execution_count": null,
   "metadata": {},
   "outputs": [],
   "source": [
    "import_dates = get_import_dates()\n",
    "latest_import_date = import_dates[0]['articleImportDate']"
   ]
  },
  {
   "cell_type": "code",
   "execution_count": null,
   "metadata": {},
   "outputs": [],
   "source": [
    "journal_info_list = get_external_journals(latest_import_date)\n",
    "ext_journal_ids = [journal_info['extJournalID'] for journal_info in journal_info_list]"
   ]
  },
  {
   "cell_type": "code",
   "execution_count": null,
   "metadata": {},
   "outputs": [],
   "source": [
    "#calling fetch_articles_and_process_tags\n",
    "fetch_articles_and_process_tags(ext_journal_ids, latest_import_date)"
   ]
  }
 ],
 "metadata": {
  "kernelspec": {
   "display_name": "Python 3 (ipykernel)",
   "language": "python",
   "name": "python3"
  },
  "language_info": {
   "codemirror_mode": {
    "name": "ipython",
    "version": 3
   },
   "file_extension": ".py",
   "mimetype": "text/x-python",
   "name": "python",
   "nbconvert_exporter": "python",
   "pygments_lexer": "ipython3",
   "version": "3.11.0"
  }
 },
 "nbformat": 4,
 "nbformat_minor": 2
}
